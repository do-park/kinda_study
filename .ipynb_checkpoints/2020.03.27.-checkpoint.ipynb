{
 "cells": [
  {
   "cell_type": "code",
   "execution_count": null,
   "metadata": {},
   "outputs": [],
   "source": [
    "# 2839 설탕 배달"
   ]
  },
  {
   "cell_type": "code",
   "execution_count": 1,
   "metadata": {},
   "outputs": [
    {
     "name": "stdout",
     "output_type": "stream",
     "text": [
      "11\n",
      "3\n"
     ]
    }
   ],
   "source": [
    "sugar = int(input())\n",
    "package = 0\n",
    "\n",
    "while sugar != 0:\n",
    "    if sugar % 5 == 0:\n",
    "        package += sugar // 5\n",
    "        sugar = 0\n",
    "    else:\n",
    "        if sugar < 3:\n",
    "            package = -1\n",
    "            break\n",
    "        else:\n",
    "            sugar -= 3\n",
    "            package += 1\n",
    "\n",
    "print(package)"
   ]
  },
  {
   "cell_type": "code",
   "execution_count": null,
   "metadata": {},
   "outputs": [],
   "source": [
    "# 1707 이분 그래프"
   ]
  },
  {
   "cell_type": "code",
   "execution_count": 2,
   "metadata": {},
   "outputs": [
    {
     "name": "stdout",
     "output_type": "stream",
     "text": [
      "2\n",
      "3 2\n",
      "1 3\n",
      "2 3\n",
      "YES\n",
      "4 4\n",
      "1 2\n",
      "2 3\n",
      "3 4\n",
      "4 2\n",
      "NO\n"
     ]
    }
   ],
   "source": [
    "from collections import deque\n",
    "\n",
    "def bfs(v):\n",
    "    Q.append(v)\n",
    "    visited[v] = 1\n",
    "    while Q:\n",
    "        x = Q.popleft()\n",
    "        for y in adj[x]:\n",
    "            if not visited[y]:\n",
    "                visited[y] = visited[x] * -1\n",
    "                Q.append(y)\n",
    "            else:\n",
    "                if visited[y] == visited[x]:\n",
    "                    return 0\n",
    "    return 1\n",
    "\n",
    "for tc in range(int(input())):\n",
    "    V, E = map(int, input().split())\n",
    "    visited = [0] * (V + 1)\n",
    "    adj = [[] for _ in range(V + 1)]\n",
    "    for e in range(E):\n",
    "        a, b = map(int, input().split())\n",
    "        adj[a].append(b)\n",
    "        adj[b].append(a)\n",
    "    Q = deque()\n",
    "    for v in range(1, V):\n",
    "        if not visited[v]:\n",
    "            flag = bfs(v)\n",
    "            if not flag:\n",
    "                print('NO')\n",
    "                break\n",
    "    else:\n",
    "        print('YES')\n"
   ]
  }
 ],
 "metadata": {
  "kernelspec": {
   "display_name": "Python 3",
   "language": "python",
   "name": "python3"
  },
  "language_info": {
   "codemirror_mode": {
    "name": "ipython",
    "version": 3
   },
   "file_extension": ".py",
   "mimetype": "text/x-python",
   "name": "python",
   "nbconvert_exporter": "python",
   "pygments_lexer": "ipython3",
   "version": "3.7.4"
  }
 },
 "nbformat": 4,
 "nbformat_minor": 2
}
