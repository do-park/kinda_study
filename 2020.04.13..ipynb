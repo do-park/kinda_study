{
 "cells": [
  {
   "cell_type": "code",
   "execution_count": null,
   "metadata": {},
   "outputs": [],
   "source": [
    "# 15685 드래곤 커브"
   ]
  },
  {
   "cell_type": "code",
   "execution_count": null,
   "metadata": {},
   "outputs": [],
   "source": []
  },
  {
   "cell_type": "code",
   "execution_count": null,
   "metadata": {},
   "outputs": [],
   "source": [
    "# 17472 다리 만들기 2"
   ]
  },
  {
   "cell_type": "code",
   "execution_count": null,
   "metadata": {},
   "outputs": [],
   "source": [
    "# NEED TO DO\n",
    "# 어떤 다리들을 고를 것인가!\n",
    "\n",
    "from collections import deque\n",
    "\n",
    "N, M = map(int, input().split())\n",
    "maps = [list(map(int, input().split())) for _ in range(N)]\n",
    "visited = [[0] * M for _ in range(N)]\n",
    "island = []\n",
    "Q = deque()\n",
    "dy = [-1, 1, 0, 0]\n",
    "dx = [0, 0, -1, 1]\n",
    "v = 0\n",
    "for n in range(N):\n",
    "    for m in range(M):\n",
    "        if maps[n][m] and not visited[n][m]:\n",
    "            temp = []\n",
    "            v += 1\n",
    "            Q.append([n, m])\n",
    "            visited[n][m] = v\n",
    "            temp.append([n, m])\n",
    "            while Q:\n",
    "                y, x = Q.popleft()\n",
    "                for d in range(4):\n",
    "                    ny = y + dy[d]\n",
    "                    nx = x + dx[d]\n",
    "                    if 0 <= ny < N and 0 <= nx < M and maps[ny][nx] and not visited[ny][nx]:\n",
    "                        Q.append([ny, nx])\n",
    "                        visited[ny][nx] = v\n",
    "                        temp.append([ny, nx])\n",
    "            island.append(temp)\n",
    "for i in range(v):\n",
    "    print(island[i])\n",
    "adj = [[11] * (v + 1) for _ in range(v + 1)]\n",
    "for i in range(v):\n",
    "    for n, m in island[i]:\n",
    "        Q.append([n, m, 0, 0])\n",
    "        Q.append([n, m, 0, 1])\n",
    "        Q.append([n, m, 0, 2])\n",
    "        Q.append([n, m, 0, 3])\n",
    "        while Q:\n",
    "            y, x, dist, dir = Q.popleft()\n",
    "            ny = y + dy[dir]\n",
    "            nx = x + dx[dir]\n",
    "            if 0 <= ny < N and 0 <= nx < M and visited[ny][nx] != (i + 1):\n",
    "                if visited[ny][nx]:\n",
    "                    if adj[i + 1][visited[ny][nx]] > dist != 1:\n",
    "                        adj[i + 1][visited[ny][nx]] = dist\n",
    "                        adj[visited[ny][nx]][i + 1] = dist\n",
    "                else:\n",
    "                    Q.append([ny, nx, dist + 1, dir])\n",
    "for i in range(1, v + 2):\n",
    "    print(adj[i])"
   ]
  }
 ],
 "metadata": {
  "kernelspec": {
   "display_name": "Python 3",
   "language": "python",
   "name": "python3"
  },
  "language_info": {
   "codemirror_mode": {
    "name": "ipython",
    "version": 3
   },
   "file_extension": ".py",
   "mimetype": "text/x-python",
   "name": "python",
   "nbconvert_exporter": "python",
   "pygments_lexer": "ipython3",
   "version": "3.7.4"
  }
 },
 "nbformat": 4,
 "nbformat_minor": 2
}
