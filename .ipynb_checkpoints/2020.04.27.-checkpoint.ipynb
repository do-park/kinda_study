{
 "cells": [
  {
   "cell_type": "code",
   "execution_count": null,
   "metadata": {},
   "outputs": [],
   "source": [
    "# 17144 미세먼지 안녕!"
   ]
  },
  {
   "cell_type": "code",
   "execution_count": 3,
   "metadata": {},
   "outputs": [
    {
     "name": "stdout",
     "output_type": "stream",
     "text": [
      "7 8 1\n",
      "0 0 0 0 0 0 0 9\n",
      "0 0 0 0 3 0 0 8\n",
      "-1 0 5 0 0 0 22 0\n",
      "-1 8 0 0 0 0 0 0\n",
      "0 0 0 0 0 10 43 0\n",
      "0 0 5 0 15 0 0 0\n",
      "0 0 40 0 0 0 20 0\n",
      "188\n"
     ]
    }
   ],
   "source": [
    "def spread(now):\n",
    "    next = [[0] * C for _ in range(R)]\n",
    "    for y in range(R):\n",
    "        for x in range(C):\n",
    "            if now[y][x] == -1:\n",
    "                next[y][x] = -1\n",
    "            else:\n",
    "                if now[y][x] != 0:\n",
    "                    count = 0\n",
    "                    dust = now[y][x] // 5\n",
    "                    for d in range(4):\n",
    "                        ny = y + dy[d]\n",
    "                        nx = x + dx[d]\n",
    "                        if 0 <= ny < R and 0 <= nx < C and now[ny][nx] != -1:\n",
    "                            next[ny][nx] += dust\n",
    "                            count += 1\n",
    "                    next[y][x] = next[y][x] + now[y][x] - dust * count\n",
    "    return next\n",
    "\n",
    "def purify(now):\n",
    "    for i in range(purifier[0] - 1, 0, -1):\n",
    "        now[i][0] = now[i - 1][0]\n",
    "    for i in range(0, C - 1):\n",
    "        now[0][i] = now[0][i + 1]\n",
    "    for i in range(purifier[0]):\n",
    "        now[i][C - 1] = now[i + 1][C - 1]\n",
    "    for i in range(C - 1, 1, -1):\n",
    "        now[purifier[0]][i] = now[purifier[0]][i - 1]\n",
    "    now[purifier[0]][1] = 0\n",
    "    for i in range(purifier[1] + 1, R - 1):\n",
    "        now[i][0] = now[i + 1][0]\n",
    "    for i in range(C - 1):\n",
    "        now[R - 1][i] = now[R - 1][i + 1]\n",
    "    for i in range(R - 1, purifier[1], -1):\n",
    "        now[i][C - 1] = now[i - 1][C - 1]\n",
    "    for i in range(C - 1, 1, -1):\n",
    "        now[purifier[1]][i] = now[purifier[1]][i - 1]\n",
    "    now[purifier[1]][1] = 0\n",
    "\n",
    "\n",
    "R, C, T = map(int, input().split())\n",
    "maps = [list(map(int, input().split())) for _ in range(R)]\n",
    "dy = [-1, 1, 0, 0]\n",
    "dx = [0, 0, -1, 1]\n",
    "purifier = []\n",
    "for i in range(2, R):\n",
    "    if maps[i][0] == -1:\n",
    "        purifier.append(i)\n",
    "        purifier.append(i + 1)\n",
    "        break\n",
    "for t in range(T):\n",
    "    maps = spread(maps)\n",
    "    purify(maps)\n",
    "result = 2\n",
    "for i in range(R):\n",
    "    result += sum(maps[i])\n",
    "print(result)"
   ]
  },
  {
   "cell_type": "code",
   "execution_count": null,
   "metadata": {},
   "outputs": [],
   "source": [
    "# 16929 Two Dots"
   ]
  },
  {
   "cell_type": "code",
   "execution_count": 4,
   "metadata": {},
   "outputs": [
    {
     "name": "stdout",
     "output_type": "stream",
     "text": [
      "3 4\n",
      "AAAA\n",
      "ABCA\n",
      "AAAA\n",
      "Yes\n"
     ]
    }
   ],
   "source": [
    "from collections import deque\n",
    "\n",
    "N, M = map(int, input().split())\n",
    "maps = [list(map(str, input())) for _ in range(N)]\n",
    "visited = [[0] * M for _ in range(N)]\n",
    "Q = deque()\n",
    "count = 1\n",
    "flag = 0\n",
    "dy = [-1, 1, 0, 0]\n",
    "dx = [0, 0, -1, 1]\n",
    "for n in range(N):\n",
    "    for m in range(M):\n",
    "        if not visited[n][m]:\n",
    "            color = maps[n][m]\n",
    "            visited[n][m] = count\n",
    "            Q.append([n, m, n, m])\n",
    "            while Q:\n",
    "                y, x, by, bx = Q.popleft()\n",
    "                for d in range(4):\n",
    "                    ny = y + dy[d]\n",
    "                    nx = x + dx[d]\n",
    "                    if 0 <= ny < N and 0 <= nx < M and maps[ny][nx] == color:\n",
    "                        if not visited[ny][nx]:\n",
    "                            visited[ny][nx] = count\n",
    "                            Q.append([ny, nx, y, x])\n",
    "                        else:\n",
    "                            if ny != by and nx != bx:\n",
    "                                flag = 1\n",
    "                                Q = deque()\n",
    "                                break\n",
    "            count += 1\n",
    "            if flag: break\n",
    "        if flag: break\n",
    "    if flag: break\n",
    "if flag: print('Yes')\n",
    "else: print('No')"
   ]
  }
 ],
 "metadata": {
  "kernelspec": {
   "display_name": "Python 3",
   "language": "python",
   "name": "python3"
  },
  "language_info": {
   "codemirror_mode": {
    "name": "ipython",
    "version": 3
   },
   "file_extension": ".py",
   "mimetype": "text/x-python",
   "name": "python",
   "nbconvert_exporter": "python",
   "pygments_lexer": "ipython3",
   "version": "3.7.4"
  }
 },
 "nbformat": 4,
 "nbformat_minor": 2
}
