{
 "cells": [
  {
   "cell_type": "code",
   "execution_count": null,
   "metadata": {},
   "outputs": [],
   "source": [
    "# 15685 드래곤 커브"
   ]
  },
  {
   "cell_type": "code",
   "execution_count": null,
   "metadata": {},
   "outputs": [],
   "source": []
  },
  {
   "cell_type": "code",
   "execution_count": null,
   "metadata": {},
   "outputs": [],
   "source": [
    "# 17472 다리 만들기 2"
   ]
  },
  {
   "cell_type": "code",
   "execution_count": null,
   "metadata": {},
   "outputs": [],
   "source": [
    "# 23% 에서 틀렸습니다.\n",
    "\n",
    "from collections import deque\n",
    "\n",
    "def func(start, depth=1, res=0):\n",
    "    if depth == v:\n",
    "        for i in range(1, v + 1):\n",
    "            if not visited[i]:\n",
    "                return\n",
    "        result.append(res)\n",
    "        return\n",
    "    for i in range(start, len(graph)):\n",
    "        visited[graph[i][1]] += 1\n",
    "        visited[graph[i][2]] += 1\n",
    "        func(i + 1, depth + 1, res + graph[i][0])\n",
    "        visited[graph[i][1]] -= 1\n",
    "        visited[graph[i][2]] -= 1\n",
    "    else:\n",
    "        return\n",
    "\n",
    "\n",
    "N, M = map(int, input().split())\n",
    "maps = [list(map(int, input().split())) for _ in range(N)]\n",
    "visited = [[0] * M for _ in range(N)]\n",
    "island = []\n",
    "Q = deque()\n",
    "dy = [-1, 1, 0, 0]\n",
    "dx = [0, 0, -1, 1]\n",
    "v = 0\n",
    "for n in range(N):\n",
    "    for m in range(M):\n",
    "        if maps[n][m] and not visited[n][m]:\n",
    "            temp = []\n",
    "            v += 1\n",
    "            Q.append([n, m])\n",
    "            visited[n][m] = v\n",
    "            temp.append([n, m])\n",
    "            while Q:\n",
    "                y, x = Q.popleft()\n",
    "                for d in range(4):\n",
    "                    ny = y + dy[d]\n",
    "                    nx = x + dx[d]\n",
    "                    if 0 <= ny < N and 0 <= nx < M and maps[ny][nx] and not visited[ny][nx]:\n",
    "                        Q.append([ny, nx])\n",
    "                        visited[ny][nx] = v\n",
    "                        temp.append([ny, nx])\n",
    "            island.append(temp)\n",
    "adj = [[11] * (v + 1) for _ in range(v + 1)]\n",
    "for i in range(v):\n",
    "    for n, m in island[i]:\n",
    "        Q.append([n, m, 0, 0])\n",
    "        Q.append([n, m, 0, 1])\n",
    "        Q.append([n, m, 0, 2])\n",
    "        Q.append([n, m, 0, 3])\n",
    "        while Q:\n",
    "            y, x, dist, dir = Q.popleft()\n",
    "            ny = y + dy[dir]\n",
    "            nx = x + dx[dir]\n",
    "            if 0 <= ny < N and 0 <= nx < M and visited[ny][nx] != (i + 1):\n",
    "                if visited[ny][nx]:\n",
    "                    if adj[i + 1][visited[ny][nx]] > dist != 1:\n",
    "                        adj[i + 1][visited[ny][nx]] = dist\n",
    "                        adj[visited[ny][nx]][i + 1] = dist\n",
    "                else:\n",
    "                    Q.append([ny, nx, dist + 1, dir])\n",
    "graph = []\n",
    "for i in range(1, v):\n",
    "    for j in range(i + 1, v + 1):\n",
    "        if adj[i][j] != 11:\n",
    "            graph.append([adj[i][j], i, j])\n",
    "graph.sort()\n",
    "result = []\n",
    "for i in range(len(graph)):\n",
    "    visited = [0] * (v + 1)\n",
    "    func(i)\n",
    "    if result:\n",
    "        break\n",
    "if result:\n",
    "    print(result[0])\n",
    "else:\n",
    "    print(-1)"
   ]
  }
 ],
 "metadata": {
  "kernelspec": {
   "display_name": "Python 3",
   "language": "python",
   "name": "python3"
  },
  "language_info": {
   "codemirror_mode": {
    "name": "ipython",
    "version": 3
   },
   "file_extension": ".py",
   "mimetype": "text/x-python",
   "name": "python",
   "nbconvert_exporter": "python",
   "pygments_lexer": "ipython3",
   "version": "3.7.4"
  }
 },
 "nbformat": 4,
 "nbformat_minor": 2
}
