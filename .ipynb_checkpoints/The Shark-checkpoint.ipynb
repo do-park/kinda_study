{
 "cells": [
  {
   "cell_type": "code",
   "execution_count": null,
   "metadata": {
    "collapsed": true
   },
   "outputs": [],
   "source": [
    "# 16236 아기 상어"
   ]
  },
  {
   "cell_type": "code",
   "execution_count": 1,
   "metadata": {},
   "outputs": [
    {
     "name": "stdout",
     "output_type": "stream",
     "text": [
      "4\n",
      "4 3 2 1\n",
      "0 0 0 0\n",
      "0 0 9 0\n",
      "1 2 3 4\n",
      "14\n"
     ]
    }
   ],
   "source": [
    "from collections import deque\n",
    "\n",
    "N = int(input())\n",
    "maps = [list(map(int, input().split())) for _ in range(N)]\n",
    "shark = 2\n",
    "Q = deque()\n",
    "visited = [[400] * N for _ in range(N)]\n",
    "for i in range(N):\n",
    "    for j in range(N):\n",
    "        if maps[i][j] == 9:\n",
    "            Q.append([i, j])\n",
    "            visited[i][j] = 0\n",
    "            maps[i][j] = 0\n",
    "dy = [-1, 1, 0, 0]\n",
    "dx = [0, 0, -1, 1]\n",
    "answer = 0\n",
    "eat = 0\n",
    "while True:\n",
    "    temp = []\n",
    "    dist = 400\n",
    "    while Q:\n",
    "        y, x = Q.popleft()\n",
    "        for d in range(4):\n",
    "            ny = y + dy[d]\n",
    "            nx = x + dx[d]\n",
    "            if 0 <= ny < N and 0 <= nx < N and maps[ny][nx] <= shark and visited[ny][nx] > visited[y][x] + 1:\n",
    "                Q.append([ny, nx])\n",
    "                visited[ny][nx] = visited[y][x] + 1\n",
    "                if maps[ny][nx] < shark:\n",
    "                    if maps[ny][nx]:\n",
    "                        if dist > visited[ny][nx]:\n",
    "                            dist = visited[ny][nx]\n",
    "                            temp = [[ny, nx]]\n",
    "                        elif dist == visited[ny][nx]:\n",
    "                            temp.append([ny, nx])\n",
    "    if not temp: break\n",
    "    visited = [[400] * N for _ in range(N)]\n",
    "    result = sorted(temp, key=lambda r: (r[0], r[1]))\n",
    "    Q.append(result[0])\n",
    "    visited[result[0][0]][result[0][1]] = 0\n",
    "    maps[result[0][0]][result[0][1]] = 0\n",
    "    answer += dist\n",
    "    eat += 1\n",
    "    if eat == shark:\n",
    "        shark += 1\n",
    "        eat = 0\n",
    "print(answer)"
   ]
  },
  {
   "cell_type": "code",
   "execution_count": null,
   "metadata": {
    "collapsed": true
   },
   "outputs": [],
   "source": [
    "# 19236 청소년 상어"
   ]
  },
  {
   "cell_type": "code",
   "execution_count": null,
   "metadata": {
    "collapsed": true
   },
   "outputs": [],
   "source": []
  },
  {
   "cell_type": "code",
   "execution_count": null,
   "metadata": {
    "collapsed": true
   },
   "outputs": [],
   "source": [
    "# 19237 어른 상어"
   ]
  },
  {
   "cell_type": "code",
   "execution_count": 2,
   "metadata": {},
   "outputs": [
    {
     "name": "stdout",
     "output_type": "stream",
     "text": [
      "4 2 6\n",
      "1 0 0 0\n",
      "0 0 0 0\n",
      "0 0 0 0\n",
      "0 0 0 2\n",
      "4 3\n",
      "1 2 3 4\n",
      "2 3 4 1\n",
      "3 4 1 2\n",
      "4 1 2 3\n",
      "1 2 3 4\n",
      "2 3 4 1\n",
      "3 4 1 2\n",
      "4 1 2 3\n",
      "26\n"
     ]
    }
   ],
   "source": [
    "dy = [0, -1, 1, 0, 0]\n",
    "dx = [0, 0, 0, -1, 1]\n",
    "N, M, K = map(int, input().split())\n",
    "sharks = [[-1, -1] for _ in range(M + 1)]\n",
    "odor = [[0 for _ in range(N)] for _ in range(N)]\n",
    "maps = [list(map(int, input().split())) for _ in range(N)]\n",
    "for i in range(N):\n",
    "    for j in range(N):\n",
    "        if maps[i][j]:\n",
    "            odor[i][j] = [K, maps[i][j]]\n",
    "            sharks[maps[i][j]] = [i, j]\n",
    "shark_dir = [0] + list(map(int, input().split()))\n",
    "move_priority = [[list(map(int, input().split())) for _ in range(4)] for _ in range(M)]\n",
    "time = 0\n",
    "S = M\n",
    "while S > 1 and time < 1001:\n",
    "    for m in range(1, M + 1):\n",
    "        if sharks[m][0] > -1:\n",
    "            y, x = sharks[m][0], sharks[m][1]\n",
    "            dir = move_priority[m - 1][shark_dir[m] - 1]\n",
    "            for d in dir:\n",
    "                ny = y + dy[d]\n",
    "                nx = x + dx[d]\n",
    "                if 0 <= ny < N and 0 <= nx < N and not odor[ny][nx]:\n",
    "                    if not maps[ny][nx]:\n",
    "                        sharks[m][0], sharks[m][1] = ny, nx\n",
    "                        maps[y][x], maps[ny][nx] = 0, m\n",
    "                        shark_dir[m] = d\n",
    "                        break\n",
    "                    else:\n",
    "                        sharks[m][0], sharks[m][1] = -1, -1\n",
    "                        maps[y][x] = 0\n",
    "                        S -= 1\n",
    "                        break\n",
    "            else:\n",
    "                for d in dir:\n",
    "                    ny = y + dy[d]\n",
    "                    nx = x + dx[d]\n",
    "                    if 0 <= ny < N and 0 <= nx < N:\n",
    "                        if odor[ny][nx][1] == m:\n",
    "                            sharks[m][0], sharks[m][1] = ny, nx\n",
    "                            maps[y][x], maps[ny][nx] = 0, m\n",
    "                            shark_dir[m] = d\n",
    "                            break\n",
    "    for i in range(N):\n",
    "        for j in range(N):\n",
    "            if odor[i][j]:\n",
    "                if odor[i][j][0] == 1:\n",
    "                    odor[i][j] = 0\n",
    "                else:\n",
    "                    odor[i][j][0] -= 1\n",
    "    for m in range(1, M + 1):\n",
    "        if sharks[m][0] > -1:\n",
    "            odor[sharks[m][0]][sharks[m][1]] = [K, m]\n",
    "    time += 1\n",
    "print(time if time < 1001 else -1)"
   ]
  }
 ],
 "metadata": {
  "kernelspec": {
   "display_name": "Python 3",
   "language": "python",
   "name": "python3"
  },
  "language_info": {
   "codemirror_mode": {
    "name": "ipython",
    "version": 3
   },
   "file_extension": ".py",
   "mimetype": "text/x-python",
   "name": "python",
   "nbconvert_exporter": "python",
   "pygments_lexer": "ipython3",
   "version": "3.8.2"
  }
 },
 "nbformat": 4,
 "nbformat_minor": 4
}
