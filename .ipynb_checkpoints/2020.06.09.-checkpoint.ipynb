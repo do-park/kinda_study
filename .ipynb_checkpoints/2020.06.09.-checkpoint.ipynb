{
 "cells": [
  {
   "cell_type": "code",
   "execution_count": null,
   "metadata": {},
   "outputs": [],
   "source": [
    "# 1002 터렛"
   ]
  },
  {
   "cell_type": "code",
   "execution_count": 1,
   "metadata": {},
   "outputs": [
    {
     "name": "stdout",
     "output_type": "stream",
     "text": [
      "3\n",
      "0 0 13 40 0 37\n",
      "2\n",
      "0 0 3 0 7 4\n",
      "1\n",
      "1 1 1 1 1 5\n",
      "0\n"
     ]
    }
   ],
   "source": [
    "T = int(input())\n",
    "for tc in range(T):\n",
    "    x1, y1, r1, x2, y2, r2 = map(int, input().split())\n",
    "    R = r1 + r2\n",
    "    R = R ** 2\n",
    "    r = abs(r1 - r2)\n",
    "    r = r ** 2\n",
    "    d = (x1 - x2) ** 2 + (y1 - y2) ** 2\n",
    "    if r < d < R:\n",
    "        print(2)\n",
    "    elif d == R or (d == r and d != 0):\n",
    "        print(1)\n",
    "    elif d < r or d > R:\n",
    "        print(0)\n",
    "    elif d == 0:\n",
    "        if r1 == r2:\n",
    "            print(-1)\n",
    "        else:\n",
    "            print(0)"
   ]
  },
  {
   "cell_type": "code",
   "execution_count": null,
   "metadata": {},
   "outputs": [],
   "source": [
    "# 9461 파도반 수열"
   ]
  },
  {
   "cell_type": "code",
   "execution_count": 2,
   "metadata": {},
   "outputs": [
    {
     "name": "stdout",
     "output_type": "stream",
     "text": [
      "2\n",
      "6\n",
      "12\n",
      "3\n",
      "16\n"
     ]
    }
   ],
   "source": [
    "T = int(input())\n",
    "N = [int(input()) for _ in range(T)]\n",
    "mx = max(N)\n",
    "dp = [0, 1, 1] + [0] * (mx - 2)\n",
    "for i in range(3, mx + 1):\n",
    "    dp[i] = dp[i - 2] + dp[i - 3]\n",
    "for n in N:\n",
    "    print(dp[n])"
   ]
  }
 ],
 "metadata": {
  "kernelspec": {
   "display_name": "Python 3",
   "language": "python",
   "name": "python3"
  },
  "language_info": {
   "codemirror_mode": {
    "name": "ipython",
    "version": 3
   },
   "file_extension": ".py",
   "mimetype": "text/x-python",
   "name": "python",
   "nbconvert_exporter": "python",
   "pygments_lexer": "ipython3",
   "version": "3.7.4"
  }
 },
 "nbformat": 4,
 "nbformat_minor": 2
}
