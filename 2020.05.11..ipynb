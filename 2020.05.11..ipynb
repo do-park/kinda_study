{
 "cells": [
  {
   "cell_type": "code",
   "execution_count": null,
   "metadata": {},
   "outputs": [],
   "source": [
    "# 6593 상범 빌딩"
   ]
  },
  {
   "cell_type": "code",
   "execution_count": 1,
   "metadata": {},
   "outputs": [
    {
     "name": "stdout",
     "output_type": "stream",
     "text": [
      "3 4 5\n",
      "S....\n",
      ".###.\n",
      ".##..\n",
      "###.#\n",
      "\n",
      "#####\n",
      "#####\n",
      "##.##\n",
      "##...\n",
      "\n",
      "#####\n",
      "#####\n",
      "#.###\n",
      "####E\n",
      "\n",
      "Escaped in 11 minute(s).\n",
      "0 0 0\n"
     ]
    }
   ],
   "source": [
    "from collections import deque\n",
    "\n",
    "while True:\n",
    "    L, R, C = map(int, input().split())\n",
    "    if L == 0:\n",
    "        break\n",
    "    building = [[[] * C for _ in range(R)] for _ in range(L)]\n",
    "    visited = [[[0] * C for _ in range(R)] for _ in range(L)]\n",
    "    for l in range(L):\n",
    "        building[l] = [list(map(str, input())) for _ in range(R)]\n",
    "        input()\n",
    "    q = deque()\n",
    "    E = [0, 0, 0]\n",
    "    flag = 0\n",
    "    for l in range(L):\n",
    "        if flag == 2:\n",
    "            break\n",
    "        for r in range(R):\n",
    "            if flag == 2:\n",
    "                break\n",
    "            for c in range(C):\n",
    "                if building[l][r][c] == 'S':\n",
    "                    q.append([l, r, c])\n",
    "                    visited[l][r][c] = 1\n",
    "                    flag += 1\n",
    "                if building[l][r][c] == 'E':\n",
    "                    E[0], E[1], E[2] = l, r, c\n",
    "                    flag += 1\n",
    "    dz = [-1, 1, 0, 0, 0, 0]\n",
    "    dy = [0, 0, -1, 1, 0, 0]\n",
    "    dx = [0, 0, 0, 0, -1, 1]\n",
    "    while q:\n",
    "        z, y, x = q.popleft()\n",
    "        for d in range(6):\n",
    "            nz, ny, nx = z + dz[d], y + dy[d], x + dx[d]\n",
    "            if 0 <= nz < L and 0 <= ny < R and 0 <= nx < C and building[nz][ny][nx] != '#' and (not visited[nz][ny][nx] or visited[nz][ny][nx] > visited[z][y][x] + 1):\n",
    "                q.append([nz, ny, nx])\n",
    "                visited[nz][ny][nx] = visited[z][y][x] + 1\n",
    "    if visited[E[0]][E[1]][E[2]]:\n",
    "        print(f'Escaped in {visited[E[0]][E[1]][E[2]] - 1} minute(s).')\n",
    "    else:\n",
    "        print('Trapped!')"
   ]
  },
  {
   "cell_type": "code",
   "execution_count": null,
   "metadata": {},
   "outputs": [],
   "source": [
    "# 15683 감시"
   ]
  },
  {
   "cell_type": "code",
   "execution_count": 2,
   "metadata": {},
   "outputs": [
    {
     "name": "stdout",
     "output_type": "stream",
     "text": [
      "4 6\n",
      "0 0 0 0 0 0 \n",
      "0 0 0 0 0 0\n",
      "0 0 1 0 6 0\n",
      "0 0 0 0 0 0 \n",
      "20\n"
     ]
    }
   ],
   "source": [
    "def func(i=0):\n",
    "    global result\n",
    "    if C == i:\n",
    "        count = 0\n",
    "        for n in range(N):\n",
    "            for m in range(M):\n",
    "                if not maps[n][m]:\n",
    "                    count += 1\n",
    "        result = min(result, count)\n",
    "        return\n",
    "    y, x, c = cctv[i]\n",
    "    for chk in check[c]:\n",
    "        watch = []\n",
    "        for d in chk:\n",
    "            ny, nx = y, x\n",
    "            while 0 <= ny < N and 0 <= nx < M and maps[ny][nx] != 6:\n",
    "                if maps[ny][nx] == 0:\n",
    "                    watch.append([ny, nx])\n",
    "                    maps[ny][nx] = -1\n",
    "                ny += dy[d]\n",
    "                nx += dx[d]\n",
    "        func(i + 1)\n",
    "        for w in watch:\n",
    "            maps[w[0]][w[1]] = 0\n",
    "\n",
    "\n",
    "N, M = map(int, input().split())\n",
    "maps = [list(map(int, input().split())) for _ in range(N)]\n",
    "check = [[[0], [1], [2], [3]],\n",
    "        [[0, 2], [1, 3]],\n",
    "        [[0, 1], [1, 2], [2, 3], [3, 0]],\n",
    "        [[0, 1, 2], [1, 2, 3], [2, 3, 0], [3, 0, 1]],\n",
    "        [[0, 1, 2, 3]]]\n",
    "cctv = []\n",
    "for n in range(N):\n",
    "    for m in range(M):\n",
    "        if maps[n][m] != 0 and maps[n][m] != 6:\n",
    "            cctv.append((n, m, maps[n][m] - 1))\n",
    "cctv = sorted(cctv, key=lambda x:(-x[2]))\n",
    "C = len(cctv)\n",
    "result = N * M\n",
    "dy = [-1, 0, 1, 0]\n",
    "dx = [0, 1, 0, -1]\n",
    "func()\n",
    "print(result)"
   ]
  }
 ],
 "metadata": {
  "kernelspec": {
   "display_name": "Python 3",
   "language": "python",
   "name": "python3"
  },
  "language_info": {
   "codemirror_mode": {
    "name": "ipython",
    "version": 3
   },
   "file_extension": ".py",
   "mimetype": "text/x-python",
   "name": "python",
   "nbconvert_exporter": "python",
   "pygments_lexer": "ipython3",
   "version": "3.7.4"
  }
 },
 "nbformat": 4,
 "nbformat_minor": 2
}
