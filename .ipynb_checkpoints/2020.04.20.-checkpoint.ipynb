{
 "cells": [
  {
   "cell_type": "code",
   "execution_count": null,
   "metadata": {},
   "outputs": [],
   "source": [
    "# 16137 견우와 직녀"
   ]
  },
  {
   "cell_type": "code",
   "execution_count": null,
   "metadata": {},
   "outputs": [],
   "source": [
    "# M을 잘못 이해하고 있었음\n",
    "\n",
    "from collections import deque\n",
    "\n",
    "def bfs(vis, Q):\n",
    "    while Q:\n",
    "        y, x, flag = Q.popleft()\n",
    "        for d in range(4):\n",
    "            ny = y + dy[d]\n",
    "            nx = x + dx[d]\n",
    "            if 0 <= ny < N and 0 <= nx < N and maps[ny][nx] != 0 and (not vis[ny][nx] or vis[ny][nx] > vis[y][x] + 1):\n",
    "                if maps[ny][nx] == 1:\n",
    "                    vis[ny][nx] = vis[y][x] + 1\n",
    "                    Q.append([ny, nx, 1])\n",
    "                elif flag:\n",
    "                    if maps[ny][nx] >= vis[y][x]:\n",
    "                        vis[ny][nx] = maps[ny][nx] + 1\n",
    "                        Q.append([ny, nx, 0])\n",
    "                    else:\n",
    "                        i = 2\n",
    "                        while True:\n",
    "                            if maps[ny][nx] * i >= vis[y][x]:\n",
    "                                vis[ny][nx] = maps[ny][nx] * i + 1\n",
    "                                Q.append([ny, nx, 0])\n",
    "                                break\n",
    "                            i += 1\n",
    "    return vis\n",
    "\n",
    "N, M = map(int, input().split())\n",
    "maps = [list(map(int, input().split())) for _ in range(N)]\n",
    "visited = [[[0] * N for _ in range(N)] for _ in range(2)]\n",
    "Q = deque()\n",
    "dy = [-1, 1, 0, 0]\n",
    "dx = [0, 0, -1, 1]\n",
    "visited[0][0][0] = 1\n",
    "Q.append([0, 0, 1])\n",
    "visited[0] = bfs(visited[0], Q)\n",
    "print(visited[0])\n",
    "visited[1][N-1][N-1] = 1\n",
    "Q.append([N - 1, N - 1, 1])\n",
    "visited[1] = bfs(visited[1], Q)\n",
    "print(visited[1])\n",
    "result = []\n",
    "if visited[0][N-1][N-1]:\n",
    "    result.append([visited[0][N-1][N-1] - 1])\n",
    "for i in range(N):\n",
    "    for j in range(N):\n",
    "        if not maps[i][j]:\n",
    "            if 0 < i < N - 1 and visited[0][i - 1][j] and visited[1][i + 1][j]:\n",
    "                result.append([visited[0][i - 1][j] + visited[1][i + 1][j], i, j])\n",
    "            if 0 < j < N - 1 and visited[0][i][j - 1] and visited[1][i][j + 1]:\n",
    "                result.append([visited[0][i][j - 1] + visited[1][i][j + 1], i, j])\n",
    "            if 0 < i < N and 0 <= j < N - 1 and visited[0][i - 1][j] and visited[1][i][j + 1]:\n",
    "                result.append([visited[0][i - 1][j] + visited[1][i][j + 1], i, j])\n",
    "            if 0 <= i < N - 1 and 0 <= j < N - 1 and visited[0][i][j - 1] and visited[1][i + 1][j]:\n",
    "                result.append([visited[0][i][j - 1] + visited[1][i + 1][j], i, j])\n",
    "result.sort()\n",
    "print(result)"
   ]
  },
  {
   "cell_type": "code",
   "execution_count": null,
   "metadata": {},
   "outputs": [],
   "source": []
  },
  {
   "cell_type": "code",
   "execution_count": null,
   "metadata": {},
   "outputs": [],
   "source": []
  }
 ],
 "metadata": {
  "kernelspec": {
   "display_name": "Python 3",
   "language": "python",
   "name": "python3"
  },
  "language_info": {
   "codemirror_mode": {
    "name": "ipython",
    "version": 3
   },
   "file_extension": ".py",
   "mimetype": "text/x-python",
   "name": "python",
   "nbconvert_exporter": "python",
   "pygments_lexer": "ipython3",
   "version": "3.7.4"
  }
 },
 "nbformat": 4,
 "nbformat_minor": 2
}
