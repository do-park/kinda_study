{
 "cells": [
  {
   "cell_type": "code",
   "execution_count": null,
   "metadata": {},
   "outputs": [],
   "source": [
    "# 9251 LCS"
   ]
  },
  {
   "cell_type": "code",
   "execution_count": 1,
   "metadata": {},
   "outputs": [
    {
     "name": "stdout",
     "output_type": "stream",
     "text": [
      "ACAYKP\n",
      "CAPCAK\n",
      "4\n"
     ]
    }
   ],
   "source": [
    "S1 = input()\n",
    "L1 = len(S1)\n",
    "S2 = input()\n",
    "L2 = len(S2)\n",
    "table = [[0] * (L1 + 1) for _ in range(L2 + 1)]\n",
    "for i in range(L2):\n",
    "    for j in range(L1):\n",
    "        if S2[i] == S1[j]:\n",
    "            table[i + 1][j + 1] = table[i][j] + 1\n",
    "        else:\n",
    "            table[i + 1][j + 1] = max(table[i][j + 1], table[i + 1][j])\n",
    "print(table[L2][L1])"
   ]
  },
  {
   "cell_type": "code",
   "execution_count": null,
   "metadata": {},
   "outputs": [],
   "source": [
    "# 17140 이차원 배열과 연산"
   ]
  },
  {
   "cell_type": "code",
   "execution_count": 2,
   "metadata": {},
   "outputs": [
    {
     "name": "stdout",
     "output_type": "stream",
     "text": [
      "1 2 4\n",
      "1 2 1\n",
      "2 1 3\n",
      "3 3 3\n",
      "52\n"
     ]
    }
   ],
   "source": [
    "from collections import Counter\n",
    "\n",
    "def R(A):\n",
    "    new_A = []\n",
    "    maxi = 0\n",
    "    for a in A:\n",
    "        new_row = []\n",
    "        counter = sorted(list(Counter(a).items()), key=lambda x: (x[1], x[0]))\n",
    "        for num, cnt in counter:\n",
    "            if num == 0:\n",
    "                continue\n",
    "            new_row.append(num)\n",
    "            new_row.append(cnt)\n",
    "        maxi = max(maxi, len(new_row))\n",
    "        new_A.append(new_row)\n",
    "    for a in new_A:\n",
    "        if len(a) < maxi:\n",
    "            a += [0] * (maxi - len(a))\n",
    "    return new_A\n",
    "\n",
    "r, c, k = map(int, input().split())\n",
    "r, c = r - 1, c - 1\n",
    "A = [list(map(int, input().split())) for _ in range(3)]\n",
    "for t in range(101):\n",
    "    row = len(A)\n",
    "    col = len(A[0])\n",
    "    if r < row and c < col:\n",
    "        if A[r][c] == k:\n",
    "            print(t)\n",
    "            break\n",
    "    if row >= col:\n",
    "        A = R(A)\n",
    "    else:\n",
    "        A = list(map(list, zip(*A)))\n",
    "        A = R(A)\n",
    "        A = list(map(list, zip(*A)))\n",
    "else:\n",
    "    print(-1)"
   ]
  }
 ],
 "metadata": {
  "kernelspec": {
   "display_name": "Python 3",
   "language": "python",
   "name": "python3"
  },
  "language_info": {
   "codemirror_mode": {
    "name": "ipython",
    "version": 3
   },
   "file_extension": ".py",
   "mimetype": "text/x-python",
   "name": "python",
   "nbconvert_exporter": "python",
   "pygments_lexer": "ipython3",
   "version": "3.7.4"
  }
 },
 "nbformat": 4,
 "nbformat_minor": 2
}
