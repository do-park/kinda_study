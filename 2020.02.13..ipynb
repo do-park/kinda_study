{
 "cells": [
  {
   "cell_type": "code",
   "execution_count": null,
   "metadata": {},
   "outputs": [],
   "source": [
    "# 2606. 바이러스"
   ]
  },
  {
   "cell_type": "code",
   "execution_count": 1,
   "metadata": {},
   "outputs": [
    {
     "name": "stdout",
     "output_type": "stream",
     "text": [
      "7\n",
      "6\n",
      "1 2\n",
      "2 3\n",
      "1 5\n",
      "5 2\n",
      "5 6\n",
      "4 7\n",
      "4\n"
     ]
    }
   ],
   "source": [
    "N = int(input())\n",
    "computer = [[0] * (N + 1) for _ in range(N + 1)]\n",
    "visited = [0] * (N + 1)\n",
    "\n",
    "M = int(input())\n",
    "for m in range(0, M):\n",
    "    A, B = map(int, input().split())\n",
    "    computer[A][B] = 1\n",
    "    computer[B][A] = 1\n",
    "\n",
    "stack = [1]\n",
    "\n",
    "while True:\n",
    "    now = stack[-1]\n",
    "    visited[now] = 1\n",
    "    stack.pop()\n",
    "    for i in range(0, N + 1):\n",
    "        if (computer[now][i] == 1) and (i not in stack) and (visited[i] == 0):\n",
    "            stack.append(i)\n",
    "\n",
    "    if not stack:\n",
    "        break\n",
    "\n",
    "print(sum(visited) - 1)"
   ]
  },
  {
   "cell_type": "code",
   "execution_count": null,
   "metadata": {},
   "outputs": [],
   "source": [
    "# 1325. 효율적인 해킹"
   ]
  },
  {
   "cell_type": "code",
   "execution_count": 1,
   "metadata": {},
   "outputs": [
    {
     "name": "stdout",
     "output_type": "stream",
     "text": [
      "5 4\n",
      "2 1\n",
      "3 2\n",
      "4 3\n",
      "5 4\n",
      "1 "
     ]
    }
   ],
   "source": [
    "import sys\n",
    "from collections import deque\n",
    "\n",
    "N, M = map(int, input().split())\n",
    "maps = [[] for _ in range(N + 1)]\n",
    "for m in range(M):\n",
    "    a, b = map(int, input().split())\n",
    "    maps[b].append(a)\n",
    "\n",
    "max_cnt = 0\n",
    "counts = [0] * (N + 1)\n",
    "for i in range(1, N + 1):\n",
    "    visited = [False] * (N + 1)\n",
    "    stack = deque()\n",
    "    visited[i] = True\n",
    "    for m in maps[i]:\n",
    "        stack.append(m)\n",
    "    while stack:\n",
    "        x = stack.pop()\n",
    "        if not visited[x]:\n",
    "            visited[x] = True\n",
    "            for k in maps[x]:\n",
    "                stack.append(k)\n",
    "    counts[i] = visited.count(True)\n",
    "    if max_cnt < counts[i]:\n",
    "        max_cnt = counts[i]\n",
    "\n",
    "for i in range(1, N + 1):\n",
    "    if counts[i] == max_cnt:\n",
    "        print(i, end=' ')\n"
   ]
  },
  {
   "cell_type": "code",
   "execution_count": null,
   "metadata": {},
   "outputs": [],
   "source": [
    "# 2178. 미로 탐색"
   ]
  },
  {
   "cell_type": "code",
   "execution_count": 2,
   "metadata": {},
   "outputs": [
    {
     "name": "stdout",
     "output_type": "stream",
     "text": [
      "4 6\n",
      "101111\n",
      "101010\n",
      "101011\n",
      "111011\n",
      "15\n"
     ]
    }
   ],
   "source": [
    "def safe(x, y):\n",
    "    if 0 <= x < M and 0 <= y < N:\n",
    "        return True\n",
    "    else:\n",
    "        return False\n",
    "\n",
    "\n",
    "def BFS(miro, i, j, N, M):\n",
    "    visited = []\n",
    "    queue = [[i, j]]\n",
    "    distance = [[0] * M for _ in range(N)]\n",
    "    distance[0][0] = 1\n",
    "\n",
    "    dy = [-1, 1, 0, 0]  # 상하좌우\n",
    "    dx = [0, 0, -1, 1]\n",
    "\n",
    "    while queue:\n",
    "        [i, j] = queue.pop(0)\n",
    "        visited.append([i, j])\n",
    "\n",
    "        for d in range(4):\n",
    "            Y = dy[d] + i\n",
    "            X = dx[d] + j\n",
    "\n",
    "            if safe(X, Y) and miro[Y][X] == 1 and [Y, X] not in visited and [Y, X] not in queue:\n",
    "                queue.append([Y, X])\n",
    "                distance[Y][X] = distance[i][j] + 1\n",
    "\n",
    "    return distance[N - 1][M - 1]\n",
    "\n",
    "\n",
    "N, M = map(int, input().split())\n",
    "miro = [list(map(int, input())) for _ in range(N)]\n",
    "\n",
    "print(BFS(miro, 0, 0, N, M))"
   ]
  }
 ],
 "metadata": {
  "kernelspec": {
   "display_name": "Python 3",
   "language": "python",
   "name": "python3"
  },
  "language_info": {
   "codemirror_mode": {
    "name": "ipython",
    "version": 3
   },
   "file_extension": ".py",
   "mimetype": "text/x-python",
   "name": "python",
   "nbconvert_exporter": "python",
   "pygments_lexer": "ipython3",
   "version": "3.7.3"
  }
 },
 "nbformat": 4,
 "nbformat_minor": 4
}
