{
 "cells": [
  {
   "cell_type": "code",
   "execution_count": null,
   "metadata": {},
   "outputs": [],
   "source": [
    "# 1937 욕심쟁이 판다"
   ]
  },
  {
   "cell_type": "code",
   "execution_count": null,
   "metadata": {},
   "outputs": [],
   "source": [
    "# Brainf**k 인터프리터"
   ]
  },
  {
   "cell_type": "code",
   "execution_count": null,
   "metadata": {},
   "outputs": [],
   "source": [
    "# 4195 친구 네트워크"
   ]
  },
  {
   "cell_type": "code",
   "execution_count": null,
   "metadata": {},
   "outputs": [],
   "source": [
    "# 5214 환승"
   ]
  },
  {
   "cell_type": "code",
   "execution_count": null,
   "metadata": {},
   "outputs": [],
   "source": [
    "# 6593 상범 빌딩"
   ]
  },
  {
   "cell_type": "code",
   "execution_count": null,
   "metadata": {},
   "outputs": [],
   "source": [
    "# 11725 트리의 부모 찾기"
   ]
  },
  {
   "cell_type": "code",
   "execution_count": null,
   "metadata": {},
   "outputs": [],
   "source": [
    "# 13549 숨바꼭질 3"
   ]
  },
  {
   "cell_type": "code",
   "execution_count": 1,
   "metadata": {},
   "outputs": [
    {
     "name": "stdout",
     "output_type": "stream",
     "text": [
      "5 17\n",
      "2\n"
     ]
    }
   ],
   "source": [
    "import collections\n",
    "\n",
    "def seek():\n",
    "    while Q:\n",
    "        now = Q.popleft()\n",
    "        vn = visited[now]\n",
    "        if now == K:\n",
    "            return vn\n",
    "        next(now - 1, vn)\n",
    "        next(now + 1, vn)\n",
    "        next(now * 2, vn - 1)\n",
    "\n",
    "def next(nex, vn):\n",
    "    if 0 <= nex < 100001 and (visited[nex] == 0 or visited[nex] > vn + 1):\n",
    "        visited[nex] = vn + 1\n",
    "        Q.append(nex)\n",
    "\n",
    "N, K = map(int, input().split())\n",
    "visited = [0] * 100001\n",
    "visited[N] = 1\n",
    "Q = collections.deque()\n",
    "Q.append(N)\n",
    "print(seek() - 1)"
   ]
  },
  {
   "cell_type": "code",
   "execution_count": null,
   "metadata": {},
   "outputs": [],
   "source": [
    "# 13913 숨바꼭질4"
   ]
  },
  {
   "cell_type": "code",
   "execution_count": 3,
   "metadata": {},
   "outputs": [
    {
     "name": "stdout",
     "output_type": "stream",
     "text": [
      "5 17\n",
      "4\n",
      "5 4 8 16 17\n"
     ]
    }
   ],
   "source": [
    "from collections import deque\n",
    "\n",
    "N, K = map(int, input().split())\n",
    "visited = [-1] * 100001\n",
    "before = [-1] * 100001\n",
    "visited[N] = 0\n",
    "Q = deque([N])\n",
    "result = [K]\n",
    "k = K\n",
    "while Q:\n",
    "    x = Q.popleft()\n",
    "    for nx in [x+1, x-1, 2*x]:\n",
    "        if 0 <= nx < 100001 and visited[nx] == -1:\n",
    "            Q.append(nx)\n",
    "            visited[nx] = visited[x] + 1\n",
    "            before[nx] = x\n",
    "\n",
    "while before[k] != -1:\n",
    "    result.append(before[k])\n",
    "    k = before[k]\n",
    "\n",
    "print(visited[K])\n",
    "print(*reversed(result))"
   ]
  },
  {
   "cell_type": "code",
   "execution_count": null,
   "metadata": {},
   "outputs": [],
   "source": [
    "# 16932 모양 만들기"
   ]
  },
  {
   "cell_type": "code",
   "execution_count": 4,
   "metadata": {},
   "outputs": [
    {
     "name": "stdout",
     "output_type": "stream",
     "text": [
      "3 3\n",
      "0 1 1\n",
      "0 0 1\n",
      "0 1 0\n",
      "5\n"
     ]
    }
   ],
   "source": [
    "from collections import deque\n",
    "\n",
    "N, M = map(int, input().split())\n",
    "arr = [list(map(int, input().split())) for _ in range(N)]\n",
    "vis = [[0] * M for _ in range(N)]\n",
    "grp = [0]\n",
    "result = 0\n",
    "Q = deque()\n",
    "dy = [-1, 1, 0, 0]\n",
    "dx = [0, 0, -1, 1]\n",
    "num = 1\n",
    "for n in range(N):\n",
    "    for m in range(M):\n",
    "        if arr[n][m] and not vis[n][m]:\n",
    "            Q.append([n, m])\n",
    "            vis[n][m] = num\n",
    "            cnt = 1\n",
    "            while Q:\n",
    "                y, x = Q.popleft()\n",
    "                for d in range(4):\n",
    "                    ny = y + dy[d]\n",
    "                    nx = x + dx[d]\n",
    "                    if 0 <= ny < N and 0 <= nx < M and arr[ny][nx] and not vis[ny][nx]:\n",
    "                        Q.append([ny, nx])\n",
    "                        vis[ny][nx] = num\n",
    "                        cnt += 1\n",
    "            num += 1\n",
    "            grp.append(cnt)\n",
    "for n in range(N):\n",
    "    for m in range(M):\n",
    "        if not vis[n][m]:\n",
    "            res = 1\n",
    "            temp = []\n",
    "            for d in range(4):\n",
    "                ny = n + dy[d]\n",
    "                nx = m + dx[d]\n",
    "                if 0 <= ny < N and 0 <= nx < M and vis[ny][nx] and vis[ny][nx] not in temp:\n",
    "                    res += grp[vis[ny][nx]]\n",
    "                    temp.append(vis[ny][nx])\n",
    "            if res > result:\n",
    "                result = res\n",
    "print(result)"
   ]
  },
  {
   "cell_type": "code",
   "execution_count": null,
   "metadata": {},
   "outputs": [],
   "source": [
    "# 17071 숨바꼭질 5"
   ]
  },
  {
   "cell_type": "code",
   "execution_count": 5,
   "metadata": {},
   "outputs": [
    {
     "name": "stdout",
     "output_type": "stream",
     "text": [
      "5 17\n",
      "2\n"
     ]
    }
   ],
   "source": [
    "from collections import deque\n",
    "\n",
    "N, K = map(int, input().split())\n",
    "visited = [[500001] * 500001 for _ in range(2)]\n",
    "Q = deque()\n",
    "visited[0][N] = 0\n",
    "Q.append([N, 0])\n",
    "while Q:\n",
    "    now, sec = Q.popleft()\n",
    "    flag = sec % 2\n",
    "    for next in [now + 1, now - 1, now * 2]:\n",
    "        if 0 < next < 500001 and visited[1 - flag][next] > sec + 1:\n",
    "            visited[1 - flag][next] = sec + 1\n",
    "            Q.append([next, sec + 1])\n",
    "sec = 0\n",
    "flag = 0\n",
    "result = -1\n",
    "while K < 500001:\n",
    "    if visited[flag][K] != 500001 and visited[flag][K] <= sec:\n",
    "        result = sec\n",
    "        break\n",
    "    flag = 1- flag\n",
    "    sec += 1\n",
    "    K += sec\n",
    "print(result)"
   ]
  },
  {
   "cell_type": "code",
   "execution_count": null,
   "metadata": {},
   "outputs": [],
   "source": [
    "# 17136 색종이 붙이기"
   ]
  },
  {
   "cell_type": "code",
   "execution_count": null,
   "metadata": {},
   "outputs": [],
   "source": [
    "# 17281 ⚾"
   ]
  },
  {
   "cell_type": "code",
   "execution_count": null,
   "metadata": {},
   "outputs": [],
   "source": [
    "# 17302 흰색으로 만들기"
   ]
  },
  {
   "cell_type": "code",
   "execution_count": null,
   "metadata": {},
   "outputs": [],
   "source": [
    "# 17406 배열 돌리기 4"
   ]
  },
  {
   "cell_type": "code",
   "execution_count": 2,
   "metadata": {},
   "outputs": [
    {
     "name": "stdout",
     "output_type": "stream",
     "text": [
      "5 6 2\n",
      "1 2 3 2 5 6\n",
      "3 8 7 2 1 3\n",
      "8 2 3 1 4 5\n",
      "3 4 5 1 1 1\n",
      "9 3 2 1 4 3\n",
      "3 4 2\n",
      "4 2 1\n",
      "12\n"
     ]
    }
   ],
   "source": [
    "import copy\n",
    "from itertools import permutations\n",
    "\n",
    "def rotate(A, r, c, s):\n",
    "    r, c = r - 1, c - 1\n",
    "    for i in range(1, s + 1):\n",
    "        y, x = r - i, c - i\n",
    "        I = 2 * i\n",
    "        temp = A[y][x]\n",
    "        for j in range(0, I):\n",
    "            A[y + j][x] = A[y + j + 1][x]\n",
    "        for j in range(0, I):\n",
    "            A[y + I][x + j] = A[y + I][x + j + 1]\n",
    "        for j in range(I, 0, -1):\n",
    "            A[y + j][x + I] = A[y + j - 1][x + I]\n",
    "        for j in range(I, 0, -1):\n",
    "            A[y][x + j] = A[y][x + j - 1]\n",
    "        A[y][x + 1] = temp\n",
    "\n",
    "\n",
    "N, M, K = map(int, input().split())\n",
    "maps = [list(map(int, input().split())) for _ in range(N)]\n",
    "rcs = [list(map(int, input().split())) for _ in range(K)]\n",
    "perm = list(permutations(rcs, K))\n",
    "result = 5001\n",
    "for p in perm:\n",
    "    arr = copy.deepcopy(maps)\n",
    "    for cmd in p:\n",
    "        rotate(arr, cmd[0], cmd[1], cmd[2])\n",
    "    for n in range(N):\n",
    "        result = min(result, sum(arr[n]))\n",
    "print(result)"
   ]
  }
 ],
 "metadata": {
  "kernelspec": {
   "display_name": "Python 3",
   "language": "python",
   "name": "python3"
  },
  "language_info": {
   "codemirror_mode": {
    "name": "ipython",
    "version": 3
   },
   "file_extension": ".py",
   "mimetype": "text/x-python",
   "name": "python",
   "nbconvert_exporter": "python",
   "pygments_lexer": "ipython3",
   "version": "3.7.4"
  }
 },
 "nbformat": 4,
 "nbformat_minor": 2
}
