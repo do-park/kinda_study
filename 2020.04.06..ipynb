{
 "cells": [
  {
   "cell_type": "code",
   "execution_count": null,
   "metadata": {},
   "outputs": [],
   "source": [
    "# 3020 개똥벌레"
   ]
  },
  {
   "cell_type": "code",
   "execution_count": 1,
   "metadata": {},
   "outputs": [
    {
     "name": "stdout",
     "output_type": "stream",
     "text": [
      "14 5\n",
      "1\n",
      "3\n",
      "4\n",
      "2\n",
      "2\n",
      "4\n",
      "3\n",
      "4\n",
      "3\n",
      "3\n",
      "3\n",
      "2\n",
      "3\n",
      "3\n",
      "7 2\n"
     ]
    }
   ],
   "source": [
    "N, H = map(int, input().split())\n",
    "obstacle = [[0] * (H + 1) for _ in range(2)]\n",
    "for n in range(N):\n",
    "    obstacle[n % 2][int(input())] += 1\n",
    "added = [[0] * (H + 1) for _ in range(2)]\n",
    "for i in range(H - 1, 0, -1):\n",
    "    added[0][i] = added[0][i + 1] + obstacle[0][i]\n",
    "    added[1][i] = added[1][i + 1] + obstacle[1][i]\n",
    "result = [0] * H\n",
    "for i in range(1, H + 1):\n",
    "    result[i - 1] = added[0][i] + added[1][H + 1 - i]\n",
    "print(min(result), result.count(min(result)))"
   ]
  },
  {
   "cell_type": "code",
   "execution_count": null,
   "metadata": {},
   "outputs": [],
   "source": [
    "# 3184 양"
   ]
  },
  {
   "cell_type": "code",
   "execution_count": 1,
   "metadata": {},
   "outputs": [
    {
     "name": "stdout",
     "output_type": "stream",
     "text": [
      "9 12\n",
      ".###.#####..\n",
      "#.oo#...#v#.\n",
      "#..o#.#.#.#.\n",
      "#..##o#...#.\n",
      "#.#v#o###.#.\n",
      "#..#v#....#.\n",
      "#...v#v####.\n",
      ".####.#vv.o#\n",
      ".......####.\n",
      "3 5\n"
     ]
    }
   ],
   "source": [
    "from collections import deque\n",
    "\n",
    "\n",
    "def bfs(r, c):\n",
    "    O = 0\n",
    "    V = 0\n",
    "    Q = deque()\n",
    "    Q.append([r, c])\n",
    "    visited[r][c] = 1\n",
    "    if maps[r][c] == 'o':\n",
    "        O += 1\n",
    "    elif maps[r][c] == 'v':\n",
    "        V += 1\n",
    "    while Q:\n",
    "        y, x = Q.popleft()\n",
    "        for d in range(4):\n",
    "            ny = y + dy[d]\n",
    "            nx = x + dx[d]\n",
    "            if 0 <= ny < R and 0 <= nx < C and maps[ny][nx] != '#' and not visited[ny][nx]:\n",
    "                Q.append([ny, nx])\n",
    "                visited[ny][nx] = 1\n",
    "                if maps[ny][nx] == 'o':\n",
    "                    O += 1\n",
    "                elif maps[ny][nx] == 'v':\n",
    "                    V += 1\n",
    "    if O > V:\n",
    "        return O, 0\n",
    "    else:\n",
    "        return 0, V\n",
    "\n",
    "\n",
    "R, C = map(int, input().split())\n",
    "maps = [list(map(str, input())) for _ in range(R)]\n",
    "visited = [[0] * C for _ in range(R)]\n",
    "dy = [-1, 1, 0, 0]\n",
    "dx = [0, 0, -1, 1]\n",
    "sheep = 0\n",
    "wolf = 0\n",
    "for r in range(R):\n",
    "    for c in range(C):\n",
    "        if maps[r][c] != '#' and not visited[r][c]:\n",
    "            s, w = bfs(r, c)\n",
    "            sheep += s\n",
    "            wolf += w\n",
    "print(sheep, wolf)"
   ]
  }
 ],
 "metadata": {
  "kernelspec": {
   "display_name": "Python 3",
   "language": "python",
   "name": "python3"
  },
  "language_info": {
   "codemirror_mode": {
    "name": "ipython",
    "version": 3
   },
   "file_extension": ".py",
   "mimetype": "text/x-python",
   "name": "python",
   "nbconvert_exporter": "python",
   "pygments_lexer": "ipython3",
   "version": "3.7.4"
  }
 },
 "nbformat": 4,
 "nbformat_minor": 2
}
