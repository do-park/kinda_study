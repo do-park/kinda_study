{
 "cells": [
  {
   "cell_type": "code",
   "execution_count": null,
   "metadata": {},
   "outputs": [],
   "source": [
    "# 2156 포도주 시식"
   ]
  },
  {
   "cell_type": "code",
   "execution_count": 1,
   "metadata": {},
   "outputs": [
    {
     "name": "stdout",
     "output_type": "stream",
     "text": [
      "6\n",
      "6\n",
      "10\n",
      "13\n",
      "9\n",
      "8\n",
      "1\n",
      "33\n"
     ]
    }
   ],
   "source": [
    "N = int(input())\n",
    "wine = [0]\n",
    "for n in range(N):\n",
    "    wine.append(int(input()))\n",
    "wine += [0]\n",
    "dp = [[0] * (N + 2) for _ in range(3)]\n",
    "dp[1][1] = wine[1]\n",
    "for n in range(2, N + 2):\n",
    "    dp[0][n] = max(dp[0][n - 1], dp[1][n - 1], dp[2][n - 1])\n",
    "    dp[1][n] = max(dp[0][n - 2], dp[1][n - 2], dp[2][n - 2]) + wine[n]\n",
    "    dp[2][n] = dp[1][n - 1] + wine[n]\n",
    "print(max(dp[0][N + 1], dp[1][N + 1], dp[2][N + 1]))"
   ]
  },
  {
   "cell_type": "code",
   "execution_count": null,
   "metadata": {},
   "outputs": [],
   "source": [
    "# 2512 예산"
   ]
  },
  {
   "cell_type": "code",
   "execution_count": 2,
   "metadata": {},
   "outputs": [
    {
     "name": "stdout",
     "output_type": "stream",
     "text": [
      "4\n",
      "120 110 140 150\n",
      "485\n",
      "127\n"
     ]
    }
   ],
   "source": [
    "N = int(input())\n",
    "budget = list(map(int, input().split()))\n",
    "M = int(input())\n",
    "if sum(budget) <= M:\n",
    "    print(max(budget))\n",
    "else:\n",
    "    total = 0\n",
    "    limit = 0\n",
    "    st = 0\n",
    "    en = max(budget)\n",
    "    while st <= en:\n",
    "        md = (st + en) // 2\n",
    "        result = 0\n",
    "        for n in range(N):\n",
    "            if budget[n] < md:\n",
    "                result += budget[n]\n",
    "            else:\n",
    "                result += md\n",
    "        if total < result <= M:\n",
    "            total = result\n",
    "            limit = md\n",
    "        if result == M:\n",
    "            break\n",
    "        elif result < M:\n",
    "            st = md + 1\n",
    "        else:\n",
    "            en = md - 1\n",
    "    print(limit)"
   ]
  }
 ],
 "metadata": {
  "kernelspec": {
   "display_name": "Python 3",
   "language": "python",
   "name": "python3"
  },
  "language_info": {
   "codemirror_mode": {
    "name": "ipython",
    "version": 3
   },
   "file_extension": ".py",
   "mimetype": "text/x-python",
   "name": "python",
   "nbconvert_exporter": "python",
   "pygments_lexer": "ipython3",
   "version": "3.7.4"
  }
 },
 "nbformat": 4,
 "nbformat_minor": 2
}
