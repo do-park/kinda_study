{
 "cells": [
  {
   "cell_type": "code",
   "execution_count": null,
   "metadata": {},
   "outputs": [],
   "source": [
    "# 16137 견우와 직녀"
   ]
  },
  {
   "cell_type": "code",
   "execution_count": 1,
   "metadata": {},
   "outputs": [
    {
     "name": "stdout",
     "output_type": "stream",
     "text": [
      "5 5\n",
      "1 1 1 1 1\n",
      "0 6 0 0 0\n",
      "1 1 0 1 1\n",
      "1 1 0 1 1\n",
      "1 1 0 1 1\n",
      "8\n"
     ]
    }
   ],
   "source": [
    "from collections import deque\n",
    "\n",
    "N, M = map(int, input().split())\n",
    "maps = [list(map(int, input().split())) for _ in range(N)]\n",
    "dy = [-1, 1, 0, 0]\n",
    "dx = [0, 0, -1, 1]\n",
    "bridge = []\n",
    "for i in range(N):\n",
    "    for j in range(N):\n",
    "        if maps[i][j] == 0:\n",
    "            cliff = [0, 0, 0, 0]\n",
    "            for d in range(4):\n",
    "                ni = i + dy[d]\n",
    "                nj = j + dx[d]\n",
    "                if 0 <= ni < N and 0 <= nj < N and maps[ni][nj] != 1:\n",
    "                    cliff[d] = 1\n",
    "            if cliff[0]:\n",
    "                if cliff[2] or cliff[3]:\n",
    "                    maps[i][j] = -1\n",
    "            elif cliff[1]:\n",
    "                if cliff[2] or cliff[3]:\n",
    "                    maps[i][j] = -1\n",
    "            if not maps[i][j]:\n",
    "                bridge.append([i, j])\n",
    "result = 111\n",
    "Q = deque()\n",
    "for i in range(len(bridge)):\n",
    "    maps[bridge[i][0]][bridge[i][1]] = M\n",
    "    visited = [[111] * N for _ in range(N)]\n",
    "    visited[0][0] = 0\n",
    "    Q.append([0, 0, 1])\n",
    "    while Q:\n",
    "        y, x, flag = Q.popleft()\n",
    "        for d in range(4):\n",
    "            ny = y + dy[d]\n",
    "            nx = x + dx[d]\n",
    "            if 0 <= ny < N and 0 <= nx < N and maps[ny][nx] > 0 and visited[ny][nx] > visited[y][x] + 1:\n",
    "                if maps[ny][nx] == 1:\n",
    "                    visited[ny][nx] = visited[y][x] + 1\n",
    "                    Q.append([ny, nx, 1])\n",
    "                elif flag:\n",
    "                    if maps[ny][nx] >= visited[y][x] + 1:\n",
    "                        visited[ny][nx] = maps[ny][nx]\n",
    "                        Q.append([ny, nx, 0])\n",
    "                    else:\n",
    "                        j = 2\n",
    "                        while True:\n",
    "                            if maps[ny][nx] * j >= visited[y][x] + 1:\n",
    "                                visited[ny][nx] = maps[ny][nx] * j\n",
    "                                Q.append([ny, nx, 0])\n",
    "                                break\n",
    "                            j += 1\n",
    "    maps[bridge[i][0]][bridge[i][1]] = 0\n",
    "    if result > visited[N-1][N-1] > 0:\n",
    "        result = visited[N - 1][N - 1]\n",
    "print(result)"
   ]
  },
  {
   "cell_type": "code",
   "execution_count": null,
   "metadata": {},
   "outputs": [],
   "source": []
  },
  {
   "cell_type": "code",
   "execution_count": null,
   "metadata": {},
   "outputs": [],
   "source": []
  }
 ],
 "metadata": {
  "kernelspec": {
   "display_name": "Python 3",
   "language": "python",
   "name": "python3"
  },
  "language_info": {
   "codemirror_mode": {
    "name": "ipython",
    "version": 3
   },
   "file_extension": ".py",
   "mimetype": "text/x-python",
   "name": "python",
   "nbconvert_exporter": "python",
   "pygments_lexer": "ipython3",
   "version": "3.7.4"
  }
 },
 "nbformat": 4,
 "nbformat_minor": 2
}
