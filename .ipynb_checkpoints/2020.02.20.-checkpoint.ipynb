{
 "cells": [
  {
   "cell_type": "code",
   "execution_count": null,
   "metadata": {},
   "outputs": [],
   "source": [
    "# 2740. 행렬 곱셈"
   ]
  },
  {
   "cell_type": "code",
   "execution_count": 1,
   "metadata": {},
   "outputs": [
    {
     "name": "stdout",
     "output_type": "stream",
     "text": [
      "3 2\n",
      "1 2\n",
      "3 4\n",
      "5 6\n",
      "2 3\n",
      "-1 -2 0\n",
      "0 0 3\n",
      "-1 -2 6 \n",
      "-3 -6 12 \n",
      "-5 -10 18 \n"
     ]
    }
   ],
   "source": [
    "N, M = map(int, input().split())\n",
    "A = [list(map(int, input().split())) for _ in range(N)]\n",
    "M, K = map(int, input().split())\n",
    "B = [list(map(int, input().split())) for _ in range(M)]\n",
    "\n",
    "result = [[0] * K for _ in range(N)]\n",
    "\n",
    "for n in range(N):\n",
    "    for k in range(K):\n",
    "        for m in range(M):\n",
    "            result[n][k] += A[n][m] * B[m][k]\n",
    "\n",
    "for n in range(N):\n",
    "    for k in range(K):\n",
    "        print(f'{result[n][k]}', end=' ')\n",
    "    print()"
   ]
  },
  {
   "cell_type": "code",
   "execution_count": null,
   "metadata": {},
   "outputs": [],
   "source": [
    "# 10830. 행렬 제곱"
   ]
  },
  {
   "cell_type": "code",
   "execution_count": 2,
   "metadata": {},
   "outputs": [
    {
     "name": "stdout",
     "output_type": "stream",
     "text": [
      "3 3\n",
      "1 2 3\n",
      "4 5 6\n",
      "7 8 9\n",
      "468 576 684 \n",
      "62 305 548 \n",
      "656 34 412 \n"
     ]
    }
   ],
   "source": [
    "def sqr(A, B):\n",
    "    if B == 1:\n",
    "        for i in range(N):\n",
    "            for j in range(N):\n",
    "                A[i][j] %= 1000\n",
    "        return A\n",
    "    elif B % 2:\n",
    "        result = [[0] * N for _ in range(N)]\n",
    "        tmp = sqr(A, B-1)\n",
    "        for i in range(N):\n",
    "            for j in range(N):\n",
    "                for k in range(N):\n",
    "                    result[i][j] += tmp[i][k] * A[k][j]\n",
    "                result[i][j] %= 1000\n",
    "        return result\n",
    "    else:\n",
    "        result = [[0] * N for _ in range(N)]\n",
    "        tmp = sqr(A, B // 2)\n",
    "        for i in range(N):\n",
    "            for j in range(N):\n",
    "                for k in range(N):\n",
    "                    result[i][j] += tmp[i][k] * tmp[k][j]\n",
    "                result[i][j] %= 1000\n",
    "        return result\n",
    "\n",
    "N, B = map(int, input().split())\n",
    "A = [list(map(int, input().split())) for _ in range(N)]\n",
    "\n",
    "res = sqr(A, B)\n",
    "for i in range(N):\n",
    "    for j in range(N):\n",
    "        print(res[i][j], end=' ')\n",
    "    print()"
   ]
  },
  {
   "cell_type": "code",
   "execution_count": null,
   "metadata": {},
   "outputs": [],
   "source": [
    "# 2206. 벽 부수고 이동하기"
   ]
  },
  {
   "cell_type": "code",
   "execution_count": 1,
   "metadata": {},
   "outputs": [
    {
     "name": "stdout",
     "output_type": "stream",
     "text": [
      "6 4\n",
      "0100\n",
      "1110\n",
      "1000\n",
      "0000\n",
      "0111\n",
      "0000\n",
      "15\n"
     ]
    }
   ],
   "source": [
    "from collections import deque\n",
    "\n",
    "def safe(x, y):\n",
    "    if 0 <= x < M and 0 <= y < N:\n",
    "        return True\n",
    "    return False\n",
    "\n",
    "def bfs(Q, visited):\n",
    "    while Q:\n",
    "        y, x = Q.popleft()\n",
    "        for d in range(4):\n",
    "            Y = y + dy[d]\n",
    "            X = x + dx[d]\n",
    "            if safe(X, Y) and maps[Y][X] == 0 and visited[Y][X] == -1:\n",
    "                visited[Y][X] = visited[y][x] + 1\n",
    "                Q.append([Y, X])\n",
    "    return visited\n",
    "\n",
    "N, M = map(int, input().split())\n",
    "maps = []\n",
    "wall = []\n",
    "for n in range(N):\n",
    "    temp = list(map(int, input()))\n",
    "    for m in range(M):\n",
    "        if temp[m] == 1:\n",
    "            wall.append([n, m])\n",
    "    maps.append(temp)\n",
    "\n",
    "visited_s = [[-1] * M for _ in range(N)]\n",
    "visited_e = [[-1] * M for _ in range(N)]\n",
    "Q_s = deque()\n",
    "Q_s.append([0, 0])\n",
    "visited_s[0][0] = 1\n",
    "Q_e = deque()\n",
    "Q_e.append([N-1, M-1])\n",
    "visited_e[N-1][M-1] = 1\n",
    "dy = [-1, 1, 0, 0]\n",
    "dx = [0, 0, -1, 1]\n",
    "visited_s = bfs(Q_s, visited_s)\n",
    "visited_e = bfs(Q_e, visited_e)\n",
    "\n",
    "result = []\n",
    "if visited_e[0][0] != -1:\n",
    "    result.append(visited_e[0][0])\n",
    "\n",
    "for y, x in wall:\n",
    "    if safe(x, y-1) and safe(x, y+1):\n",
    "        if visited_s[y-1][x] != -1 and visited_e[y+1][x] != -1:\n",
    "            result.append(visited_s[y-1][x] + visited_e[y+1][x] + 1)\n",
    "        if visited_e[y-1][x] != -1 and visited_s[y+1][x] != -1:\n",
    "            result.append(visited_e[y-1][x] + visited_s[y+1][x] + 1)\n",
    "    if safe(x-1, y) and safe(x+1, y):\n",
    "        if visited_s[y][x-1] != -1 and visited_e[y][x+1] != -1:\n",
    "            result.append(visited_s[y][x-1] + visited_e[y][x+1] + 1)\n",
    "        if visited_e[y][x-1] != -1 and visited_s[y][x+1] != -1:\n",
    "            result.append(visited_e[y][x-1] + visited_s[y][x+1] + 1)\n",
    "\n",
    "if result:\n",
    "    print(min(result))\n",
    "else:\n",
    "    print(-1)"
   ]
  },
  {
   "cell_type": "code",
   "execution_count": null,
   "metadata": {},
   "outputs": [],
   "source": [
    "# 9663. N-Queen"
   ]
  },
  {
   "cell_type": "code",
   "execution_count": 1,
   "metadata": {},
   "outputs": [
    {
     "name": "stdout",
     "output_type": "stream",
     "text": [
      "15\n",
      "2279184\n"
     ]
    }
   ],
   "source": [
    "def dfs(x):\n",
    "    global result\n",
    "\n",
    "    if x == N:\n",
    "        result += 1\n",
    "    else:\n",
    "        for y in range(N):\n",
    "            if not (a[y] or b[x + y] or c[x - y + N - 1]):\n",
    "                a[y] = b[x + y] = c[x - y + N - 1] = True\n",
    "                dfs(x + 1)\n",
    "                a[y] = b[x + y] = c[x - y + N - 1] = False\n",
    "\n",
    "N = int(input())\n",
    "a = [False] * N\n",
    "b = [False] * (2 * N - 1)   # 대각선 /: X + Y\n",
    "c = [False] * (2 * N - 1)   # 대각선 \\: X - Y + N - 1\n",
    "result = 0\n",
    "dfs(0)\n",
    "print(result)"
   ]
  }
 ],
 "metadata": {
  "kernelspec": {
   "display_name": "Python 3",
   "language": "python",
   "name": "python3"
  },
  "language_info": {
   "codemirror_mode": {
    "name": "ipython",
    "version": 3
   },
   "file_extension": ".py",
   "mimetype": "text/x-python",
   "name": "python",
   "nbconvert_exporter": "python",
   "pygments_lexer": "ipython3",
   "version": "3.7.4"
  }
 },
 "nbformat": 4,
 "nbformat_minor": 4
}
