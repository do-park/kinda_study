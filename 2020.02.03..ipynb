{
 "cells": [
  {
   "cell_type": "code",
   "execution_count": null,
   "metadata": {},
   "outputs": [],
   "source": [
    "# 1062. 가르침"
   ]
  },
  {
   "cell_type": "code",
   "execution_count": null,
   "metadata": {},
   "outputs": [],
   "source": [
    "N, K = map(int, input().split())\n",
    "\n",
    "words = []\n",
    "result = 0\n",
    "\n",
    "for _ in range(0, N):\n",
    "    word = input()\n",
    "    word = word.replace('a', '')\n",
    "    word = word.replace('n', '')\n",
    "    word = word.replace('t', '')\n",
    "    word = word.replace('i', '')\n",
    "    word = word.replace('c', '')\n",
    "    if len(word) == 0:\n",
    "        result += 1\n",
    "    else:\n",
    "        words.append(word)\n",
    "\n",
    "if K < 6:\n",
    "    result = 0\n",
    "    print(result)\n",
    "\n",
    "else:\n",
    "    alphas = []\n",
    "    for w in words:\n",
    "        for i in w:\n",
    "            alphas.append(i)\n",
    "    alphas = set(alphas)\n",
    "\n",
    "    if len(alphas) < K - 5:\n",
    "        result = N\n",
    "        print(result)\n",
    "\n",
    "    for i in range(1, K - 4):\n",
    "        # 처리를 해야하는데\n",
    "        # 으아아아아악\n",
    "        # 아마도 브루트포스\n",
    "        print(result)\n"
   ]
  },
  {
   "cell_type": "code",
   "execution_count": null,
   "metadata": {},
   "outputs": [],
   "source": [
    "# 2966. 찍기"
   ]
  },
  {
   "cell_type": "code",
   "execution_count": 1,
   "metadata": {},
   "outputs": [
    {
     "name": "stdout",
     "output_type": "stream",
     "text": [
      "9\n",
      "AAAABBBBB\n",
      "4\n",
      "Adrian\n",
      "Bruno\n",
      "Goran\n"
     ]
    }
   ],
   "source": [
    "ans_A = ['A', 'B', 'C']\n",
    "ans_B = ['B', 'A', 'B', 'C']\n",
    "ans_C = ['C', 'C', 'A', 'A', 'B', 'B']\n",
    "scores = [0, 0, 0]\n",
    "\n",
    "N = int(input())\n",
    "answers = input()\n",
    "list_answers = []\n",
    "\n",
    "for a in answers:\n",
    "    list_answers.append(a)\n",
    "\n",
    "for i in range(0, N):\n",
    "    if list_answers[i] == ans_A[i % 3]:\n",
    "        scores[0] += 1\n",
    "    if list_answers[i] == ans_B[i % 4]:\n",
    "        scores[1] += 1\n",
    "    if list_answers[i] == ans_C[i % 6]:\n",
    "        scores[2] += 1\n",
    "\n",
    "high = max(scores)\n",
    "print(high)\n",
    "\n",
    "if high == scores[0]:\n",
    "    print('Adrian')\n",
    "if high == scores[1]:\n",
    "    print('Bruno')\n",
    "if high == scores[2]:\n",
    "    print('Goran')"
   ]
  },
  {
   "cell_type": "code",
   "execution_count": null,
   "metadata": {},
   "outputs": [],
   "source": [
    "# 2858. 기숙사 바닥"
   ]
  },
  {
   "cell_type": "code",
   "execution_count": 1,
   "metadata": {},
   "outputs": [
    {
     "name": "stdout",
     "output_type": "stream",
     "text": [
      "10 2\n",
      "4 3\n"
     ]
    }
   ],
   "source": [
    "R, B = map(int, input().split())\n",
    "area = R + B\n",
    "\n",
    "for W in range(1, area):\n",
    "    if (area // W) == (area / W):\n",
    "        L = area // W\n",
    "        if (L - 2) * (W - 2) == B:\n",
    "            print(L, W)\n",
    "            break"
   ]
  }
 ],
 "metadata": {
  "kernelspec": {
   "display_name": "Python 3",
   "language": "python",
   "name": "python3"
  },
  "language_info": {
   "codemirror_mode": {
    "name": "ipython",
    "version": 3
   },
   "file_extension": ".py",
   "mimetype": "text/x-python",
   "name": "python",
   "nbconvert_exporter": "python",
   "pygments_lexer": "ipython3",
   "version": "3.7.3"
  }
 },
 "nbformat": 4,
 "nbformat_minor": 2
}
